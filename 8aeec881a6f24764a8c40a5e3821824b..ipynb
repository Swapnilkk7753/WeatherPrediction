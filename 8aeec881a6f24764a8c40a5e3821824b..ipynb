{
 "cells": [
  {
   "cell_type": "code",
   "execution_count": 2,
   "id": "06aab437-c5dd-453d-b882-4c1f2a40af84",
   "metadata": {},
   "outputs": [],
   "source": [
    "import numpy as np\n",
    "import pandas as pd\n",
    "import matplotlib.pyplot as plt"
   ]
  },
  {
   "cell_type": "code",
   "execution_count": null,
   "id": "9f8df492-b160-46eb-8dbe-1a47d77304c0",
   "metadata": {},
   "outputs": [
    {
     "name": "stdout",
     "output_type": "stream",
     "text": [
      "                      Formatted Date        Summary Precip Type  \\\n",
      "0      2006-04-01 00:00:00.000 +0200  Partly Cloudy        rain   \n",
      "1      2006-04-01 01:00:00.000 +0200  Partly Cloudy        rain   \n",
      "2      2006-04-01 02:00:00.000 +0200  Mostly Cloudy        rain   \n",
      "3      2006-04-01 03:00:00.000 +0200  Partly Cloudy        rain   \n",
      "4      2006-04-01 04:00:00.000 +0200  Mostly Cloudy        rain   \n",
      "5      2006-04-01 05:00:00.000 +0200  Partly Cloudy        rain   \n",
      "6      2006-04-01 06:00:00.000 +0200  Partly Cloudy        rain   \n",
      "7      2006-04-01 07:00:00.000 +0200  Partly Cloudy        rain   \n",
      "8      2006-04-01 08:00:00.000 +0200  Partly Cloudy        rain   \n",
      "9      2006-04-01 09:00:00.000 +0200  Partly Cloudy        rain   \n",
      "10     2006-04-01 10:00:00.000 +0200  Partly Cloudy        rain   \n",
      "11     2006-04-01 11:00:00.000 +0200  Partly Cloudy        rain   \n",
      "12     2006-04-01 12:00:00.000 +0200  Partly Cloudy        rain   \n",
      "13     2006-04-01 13:00:00.000 +0200  Partly Cloudy        rain   \n",
      "14     2006-04-01 14:00:00.000 +0200  Partly Cloudy        rain   \n",
      "15     2006-04-01 15:00:00.000 +0200  Partly Cloudy        rain   \n",
      "16     2006-04-01 16:00:00.000 +0200  Partly Cloudy        rain   \n",
      "17     2006-04-01 17:00:00.000 +0200  Mostly Cloudy        rain   \n",
      "18     2006-04-01 18:00:00.000 +0200  Mostly Cloudy        rain   \n",
      "19     2006-04-01 19:00:00.000 +0200  Mostly Cloudy        rain   \n",
      "20     2006-04-01 20:00:00.000 +0200  Mostly Cloudy        rain   \n",
      "21     2006-04-01 21:00:00.000 +0200  Mostly Cloudy        rain   \n",
      "22     2006-04-01 22:00:00.000 +0200  Partly Cloudy        rain   \n",
      "23     2006-04-01 23:00:00.000 +0200  Mostly Cloudy        rain   \n",
      "24     2006-04-10 00:00:00.000 +0200  Partly Cloudy        rain   \n",
      "25     2006-04-10 01:00:00.000 +0200  Partly Cloudy        rain   \n",
      "26     2006-04-10 02:00:00.000 +0200  Mostly Cloudy        rain   \n",
      "27     2006-04-10 03:00:00.000 +0200  Partly Cloudy        rain   \n",
      "28     2006-04-10 04:00:00.000 +0200  Partly Cloudy        rain   \n",
      "29     2006-04-10 05:00:00.000 +0200  Partly Cloudy        rain   \n",
      "...                              ...            ...         ...   \n",
      "96423  2016-09-08 18:00:00.000 +0200  Partly Cloudy        rain   \n",
      "96424  2016-09-08 19:00:00.000 +0200  Partly Cloudy        rain   \n",
      "96425  2016-09-08 20:00:00.000 +0200  Partly Cloudy        rain   \n",
      "96426  2016-09-08 21:00:00.000 +0200  Mostly Cloudy        rain   \n",
      "96427  2016-09-08 22:00:00.000 +0200  Partly Cloudy        rain   \n",
      "96428  2016-09-08 23:00:00.000 +0200  Partly Cloudy        rain   \n",
      "96429  2016-09-09 00:00:00.000 +0200  Partly Cloudy        rain   \n",
      "96430  2016-09-09 01:00:00.000 +0200          Clear        rain   \n",
      "96431  2016-09-09 02:00:00.000 +0200          Clear        rain   \n",
      "96432  2016-09-09 03:00:00.000 +0200          Clear        rain   \n",
      "96433  2016-09-09 04:00:00.000 +0200          Clear        rain   \n",
      "96434  2016-09-09 05:00:00.000 +0200          Clear        rain   \n",
      "96435  2016-09-09 06:00:00.000 +0200          Clear        rain   \n",
      "96436  2016-09-09 07:00:00.000 +0200          Clear        rain   \n",
      "96437  2016-09-09 08:00:00.000 +0200  Partly Cloudy        rain   \n",
      "96438  2016-09-09 09:00:00.000 +0200  Partly Cloudy        rain   \n",
      "96439  2016-09-09 10:00:00.000 +0200  Partly Cloudy        rain   \n",
      "96440  2016-09-09 11:00:00.000 +0200  Partly Cloudy        rain   \n",
      "96441  2016-09-09 12:00:00.000 +0200  Partly Cloudy        rain   \n",
      "96442  2016-09-09 13:00:00.000 +0200  Partly Cloudy        rain   \n",
      "96443  2016-09-09 14:00:00.000 +0200  Partly Cloudy        rain   \n",
      "96444  2016-09-09 15:00:00.000 +0200  Partly Cloudy        rain   \n",
      "96445  2016-09-09 16:00:00.000 +0200  Partly Cloudy        rain   \n",
      "96446  2016-09-09 17:00:00.000 +0200  Partly Cloudy        rain   \n",
      "96447  2016-09-09 18:00:00.000 +0200  Partly Cloudy        rain   \n",
      "96448  2016-09-09 19:00:00.000 +0200  Partly Cloudy        rain   \n",
      "96449  2016-09-09 20:00:00.000 +0200  Partly Cloudy        rain   \n",
      "96450  2016-09-09 21:00:00.000 +0200  Partly Cloudy        rain   \n",
      "96451  2016-09-09 22:00:00.000 +0200  Partly Cloudy        rain   \n",
      "96452  2016-09-09 23:00:00.000 +0200  Partly Cloudy        rain   \n",
      "\n",
      "       Temperature (C)  Apparent Temperature (C)  Humidity  Wind Speed (km/h)  \\\n",
      "0             9.472222                  7.388889      0.89            14.1197   \n",
      "1             9.355556                  7.227778      0.86            14.2646   \n",
      "2             9.377778                  9.377778      0.89             3.9284   \n",
      "3             8.288889                  5.944444      0.83            14.1036   \n",
      "4             8.755556                  6.977778      0.83            11.0446   \n",
      "5             9.222222                  7.111111      0.85            13.9587   \n",
      "6             7.733333                  5.522222      0.95            12.3648   \n",
      "7             8.772222                  6.527778      0.89            14.1519   \n",
      "8            10.822222                 10.822222      0.82            11.3183   \n",
      "9            13.772222                 13.772222      0.72            12.5258   \n",
      "10           16.016667                 16.016667      0.67            17.5651   \n",
      "11           17.144444                 17.144444      0.54            19.7869   \n",
      "12           17.800000                 17.800000      0.55            21.9443   \n",
      "13           17.333333                 17.333333      0.51            20.6885   \n",
      "14           18.877778                 18.877778      0.47            15.3755   \n",
      "15           18.911111                 18.911111      0.46            10.4006   \n",
      "16           15.388889                 15.388889      0.60            14.4095   \n",
      "17           15.550000                 15.550000      0.63            11.1573   \n",
      "18           14.255556                 14.255556      0.69             8.5169   \n",
      "19           13.144444                 13.144444      0.70             7.6314   \n",
      "20           11.550000                 11.550000      0.77             7.3899   \n",
      "21           11.183333                 11.183333      0.76             4.9266   \n",
      "22           10.116667                 10.116667      0.79             6.6493   \n",
      "23           10.200000                 10.200000      0.77             3.9284   \n",
      "24           10.422222                 10.422222      0.62            16.9855   \n",
      "25            9.911111                  7.566667      0.66            17.2109   \n",
      "26           11.183333                 11.183333      0.80            10.8192   \n",
      "27            7.155556                  5.044444      0.79            11.0768   \n",
      "28            6.111111                  4.816667      0.82             6.6493   \n",
      "29            6.788889                  4.272222      0.83            13.0088   \n",
      "...                ...                       ...       ...                ...   \n",
      "96423        27.800000                 27.050000      0.32             3.0751   \n",
      "96424        24.905556                 24.905556      0.51             0.0000   \n",
      "96425        22.366667                 22.366667      0.58             3.3327   \n",
      "96426        21.016667                 21.016667      0.64             3.2200   \n",
      "96427        19.927778                 19.927778      0.71             3.1556   \n",
      "96428        18.350000                 18.350000      0.77             3.2200   \n",
      "96429        17.755556                 17.755556      0.81             2.9624   \n",
      "96430        16.622222                 16.622222      0.87             3.4293   \n",
      "96431        16.144444                 16.144444      0.87             3.6547   \n",
      "96432        15.594444                 15.594444      0.87             3.2844   \n",
      "96433        15.011111                 15.011111      0.93             3.2039   \n",
      "96434        15.016667                 15.016667      0.90             2.7048   \n",
      "96435        13.872222                 13.872222      0.93             4.7495   \n",
      "96436        16.072222                 16.072222      0.88             2.7853   \n",
      "96437        19.561111                 19.561111      0.75             3.7191   \n",
      "96438        22.138889                 22.138889      0.65             7.7763   \n",
      "96439        22.872222                 22.872222      0.59             6.4239   \n",
      "96440        27.072222                 27.022222      0.42            12.0106   \n",
      "96441        28.866667                 28.216667      0.37            13.9265   \n",
      "96442        30.994444                 29.972222      0.33            15.6170   \n",
      "96443        30.894444                 29.450000      0.28            14.7798   \n",
      "96444        31.083333                 29.616667      0.28            15.5043   \n",
      "96445        31.083333                 29.611111      0.28            13.8943   \n",
      "96446        30.766667                 29.311111      0.28            14.2163   \n",
      "96447        28.838889                 27.850000      0.32            12.2038   \n",
      "96448        26.016667                 26.016667      0.43            10.9963   \n",
      "96449        24.583333                 24.583333      0.48            10.0947   \n",
      "96450        22.038889                 22.038889      0.56             8.9838   \n",
      "96451        21.522222                 21.522222      0.60            10.5294   \n",
      "96452        20.438889                 20.438889      0.61             5.8765   \n",
      "\n",
      "       Wind Bearing (degrees)  Visibility (km)  Loud Cover  \\\n",
      "0                       251.0          15.8263         0.0   \n",
      "1                       259.0          15.8263         0.0   \n",
      "2                       204.0          14.9569         0.0   \n",
      "3                       269.0          15.8263         0.0   \n",
      "4                       259.0          15.8263         0.0   \n",
      "5                       258.0          14.9569         0.0   \n",
      "6                       259.0           9.9820         0.0   \n",
      "7                       260.0           9.9820         0.0   \n",
      "8                       259.0           9.9820         0.0   \n",
      "9                       279.0           9.9820         0.0   \n",
      "10                      290.0          11.2056         0.0   \n",
      "11                      316.0          11.4471         0.0   \n",
      "12                      281.0          11.2700         0.0   \n",
      "13                      289.0          11.2700         0.0   \n",
      "14                      262.0          11.4471         0.0   \n",
      "15                      288.0          11.2700         0.0   \n",
      "16                      251.0          11.2700         0.0   \n",
      "17                      230.0          11.4471         0.0   \n",
      "18                      163.0          11.2056         0.0   \n",
      "19                      139.0          11.2056         0.0   \n",
      "20                      147.0          11.0285         0.0   \n",
      "21                      160.0           9.9820         0.0   \n",
      "22                      163.0          15.8263         0.0   \n",
      "23                      152.0          14.9569         0.0   \n",
      "24                      150.0          15.8263         0.0   \n",
      "25                      149.0          15.8263         0.0   \n",
      "26                      163.0          14.9569         0.0   \n",
      "27                      180.0          15.8263         0.0   \n",
      "28                      161.0          15.8263         0.0   \n",
      "29                      135.0          14.9569         0.0   \n",
      "...                       ...              ...         ...   \n",
      "96423                   120.0          16.1000         0.0   \n",
      "96424                     0.0          16.1000         0.0   \n",
      "96425                   135.0          15.5526         0.0   \n",
      "96426                   340.0          16.1000         0.0   \n",
      "96427                   302.0          16.1000         0.0   \n",
      "96428                    53.0          15.5526         0.0   \n",
      "96429                    12.0          16.1000         0.0   \n",
      "96430                   349.0          16.1000         0.0   \n",
      "96431                    16.0          15.1501         0.0   \n",
      "96432                    41.0          15.4399         0.0   \n",
      "96433                   341.0          15.8263         0.0   \n",
      "96434                   359.0          14.9569         0.0   \n",
      "96435                     0.0          15.8263         0.0   \n",
      "96436                    12.0          15.7297         0.0   \n",
      "96437                    12.0          14.9569         0.0   \n",
      "96438                    30.0          16.1000         0.0   \n",
      "96439                    49.0          16.1000         0.0   \n",
      "96440                    49.0          15.5526         0.0   \n",
      "96441                    61.0          16.1000         0.0   \n",
      "96442                    70.0          16.1000         0.0   \n",
      "96443                    43.0          15.5526         0.0   \n",
      "96444                    40.0          16.1000         0.0   \n",
      "96445                    40.0          16.1000         0.0   \n",
      "96446                    24.0          15.5526         0.0   \n",
      "96447                    21.0          16.1000         0.0   \n",
      "96448                    31.0          16.1000         0.0   \n",
      "96449                    20.0          15.5526         0.0   \n",
      "96450                    30.0          16.1000         0.0   \n",
      "96451                    20.0          16.1000         0.0   \n",
      "96452                    39.0          15.5204         0.0   \n",
      "\n",
      "       Pressure (millibars)                           Daily Summary  \n",
      "0                   1015.13       Partly cloudy throughout the day.  \n",
      "1                   1015.63       Partly cloudy throughout the day.  \n",
      "2                   1015.94       Partly cloudy throughout the day.  \n",
      "3                   1016.41       Partly cloudy throughout the day.  \n",
      "4                   1016.51       Partly cloudy throughout the day.  \n",
      "5                   1016.66       Partly cloudy throughout the day.  \n",
      "6                   1016.72       Partly cloudy throughout the day.  \n",
      "7                   1016.84       Partly cloudy throughout the day.  \n",
      "8                   1017.37       Partly cloudy throughout the day.  \n",
      "9                   1017.22       Partly cloudy throughout the day.  \n",
      "10                  1017.42       Partly cloudy throughout the day.  \n",
      "11                  1017.74       Partly cloudy throughout the day.  \n",
      "12                  1017.59       Partly cloudy throughout the day.  \n",
      "13                  1017.48       Partly cloudy throughout the day.  \n",
      "14                  1017.17       Partly cloudy throughout the day.  \n",
      "15                  1016.47       Partly cloudy throughout the day.  \n",
      "16                  1016.15       Partly cloudy throughout the day.  \n",
      "17                  1016.17       Partly cloudy throughout the day.  \n",
      "18                  1015.82       Partly cloudy throughout the day.  \n",
      "19                  1015.83       Partly cloudy throughout the day.  \n",
      "20                  1015.85       Partly cloudy throughout the day.  \n",
      "21                  1015.77       Partly cloudy throughout the day.  \n",
      "22                  1015.40       Partly cloudy throughout the day.  \n",
      "23                  1015.51       Partly cloudy throughout the day.  \n",
      "24                  1014.40       Mostly cloudy throughout the day.  \n",
      "25                  1014.20       Mostly cloudy throughout the day.  \n",
      "26                  1008.71       Mostly cloudy throughout the day.  \n",
      "27                  1014.47       Mostly cloudy throughout the day.  \n",
      "28                  1014.45       Mostly cloudy throughout the day.  \n",
      "29                  1014.49       Mostly cloudy throughout the day.  \n",
      "...                     ...                                     ...  \n",
      "96423               1014.04       Partly cloudy starting overnight.  \n",
      "96424               1014.14       Partly cloudy starting overnight.  \n",
      "96425               1014.34       Partly cloudy starting overnight.  \n",
      "96426               1014.73       Partly cloudy starting overnight.  \n",
      "96427               1014.63       Partly cloudy starting overnight.  \n",
      "96428               1014.68       Partly cloudy starting overnight.  \n",
      "96429               1014.65  Partly cloudy starting in the morning.  \n",
      "96430               1014.56  Partly cloudy starting in the morning.  \n",
      "96431               1014.69  Partly cloudy starting in the morning.  \n",
      "96432               1014.52  Partly cloudy starting in the morning.  \n",
      "96433               1014.37  Partly cloudy starting in the morning.  \n",
      "96434               1014.55  Partly cloudy starting in the morning.  \n",
      "96435               1014.66  Partly cloudy starting in the morning.  \n",
      "96436               1015.25  Partly cloudy starting in the morning.  \n",
      "96437               1015.28  Partly cloudy starting in the morning.  \n",
      "96438               1015.46  Partly cloudy starting in the morning.  \n",
      "96439               1015.65  Partly cloudy starting in the morning.  \n",
      "96440               1015.44  Partly cloudy starting in the morning.  \n",
      "96441               1015.35  Partly cloudy starting in the morning.  \n",
      "96442               1014.86  Partly cloudy starting in the morning.  \n",
      "96443               1014.66  Partly cloudy starting in the morning.  \n",
      "96444               1014.17  Partly cloudy starting in the morning.  \n",
      "96445               1013.97  Partly cloudy starting in the morning.  \n",
      "96446               1013.83  Partly cloudy starting in the morning.  \n",
      "96447               1014.07  Partly cloudy starting in the morning.  \n",
      "96448               1014.36  Partly cloudy starting in the morning.  \n",
      "96449               1015.16  Partly cloudy starting in the morning.  \n",
      "96450               1015.66  Partly cloudy starting in the morning.  \n",
      "96451               1015.95  Partly cloudy starting in the morning.  \n",
      "96452               1016.16  Partly cloudy starting in the morning.  \n",
      "\n",
      "[96453 rows x 12 columns]\n"
     ]
    }
   ],
   "source": [
    "df=pd.read_csv('C:/Users/uim/Desktop/weatherHistory.csv')\n",
    "print(df)"
   ]
  },
  {
   "cell_type": "code",
   "execution_count": null,
   "id": "fdef1e49-e803-418c-a114-6e349ff845ae",
   "metadata": {},
   "outputs": [
    {
     "name": "stdout",
     "output_type": "stream",
     "text": [
      "<class 'pandas.core.frame.DataFrame'>\n",
      "RangeIndex: 96453 entries, 0 to 96452\n",
      "Data columns (total 12 columns):\n",
      "Formatted Date              96453 non-null object\n",
      "Summary                     96453 non-null object\n",
      "Precip Type                 95936 non-null object\n",
      "Temperature (C)             96453 non-null float64\n",
      "Apparent Temperature (C)    96453 non-null float64\n",
      "Humidity                    96453 non-null float64\n",
      "Wind Speed (km/h)           96453 non-null float64\n",
      "Wind Bearing (degrees)      96453 non-null float64\n",
      "Visibility (km)             96453 non-null float64\n",
      "Loud Cover                  96453 non-null float64\n",
      "Pressure (millibars)        96453 non-null float64\n",
      "Daily Summary               96453 non-null object\n",
      "dtypes: float64(8), object(4)\n",
      "memory usage: 8.8+ MB\n"
     ]
    }
   ],
   "source": [
    "df.info()"
   ]
  },
  {
   "cell_type": "code",
   "execution_count": null,
   "id": "bd9595d0-1581-4973-8ec7-101b4524db8d",
   "metadata": {},
   "outputs": [],
   "source": [
    "df.dropna(inplace=True)"
   ]
  },
  {
   "cell_type": "code",
   "execution_count": null,
   "id": "4922315f-1f9b-49aa-8855-b0dbbc1a6b2f",
   "metadata": {},
   "outputs": [],
   "source": [
    "df.drop_duplicates(inplace=True)\n"
   ]
  },
  {
   "cell_type": "code",
   "execution_count": null,
   "id": "33531f6f",
   "metadata": {},
   "outputs": [],
   "source": [
    "for i in df.index:\n",
    "    if df.loc[i,'Pressure (millibars)']<1037:\n",
    "        df.loc[i,'Pressure (millibars)']=df['Pressure (millibars)'].mean()\n",
    "df.dropna(inplace=True)"
   ]
  },
  {
   "cell_type": "code",
   "execution_count": null,
   "id": "4d61f11d-de9e-4366-bca7-e2991f8f2f50",
   "metadata": {},
   "outputs": [
    {
     "data": {
      "text/html": [
       "<div>\n",
       "<style scoped>\n",
       "    .dataframe tbody tr th:only-of-type {\n",
       "        vertical-align: middle;\n",
       "    }\n",
       "\n",
       "    .dataframe tbody tr th {\n",
       "        vertical-align: top;\n",
       "    }\n",
       "\n",
       "    .dataframe thead th {\n",
       "        text-align: right;\n",
       "    }\n",
       "</style>\n",
       "<table border=\"1\" class=\"dataframe\">\n",
       "  <thead>\n",
       "    <tr style=\"text-align: right;\">\n",
       "      <th></th>\n",
       "      <th>Temperature (C)</th>\n",
       "      <th>Humidity</th>\n",
       "      <th>Wind Speed (km/h)</th>\n",
       "      <th>Pressure (millibars)</th>\n",
       "    </tr>\n",
       "  </thead>\n",
       "  <tbody>\n",
       "    <tr>\n",
       "      <th>Temperature (C)</th>\n",
       "      <td>1.000000</td>\n",
       "      <td>-0.632224</td>\n",
       "      <td>0.008659</td>\n",
       "      <td>-0.130731</td>\n",
       "    </tr>\n",
       "    <tr>\n",
       "      <th>Humidity</th>\n",
       "      <td>-0.632224</td>\n",
       "      <td>1.000000</td>\n",
       "      <td>-0.224697</td>\n",
       "      <td>0.044439</td>\n",
       "    </tr>\n",
       "    <tr>\n",
       "      <th>Wind Speed (km/h)</th>\n",
       "      <td>0.008659</td>\n",
       "      <td>-0.224697</td>\n",
       "      <td>1.000000</td>\n",
       "      <td>-0.060417</td>\n",
       "    </tr>\n",
       "    <tr>\n",
       "      <th>Pressure (millibars)</th>\n",
       "      <td>-0.130731</td>\n",
       "      <td>0.044439</td>\n",
       "      <td>-0.060417</td>\n",
       "      <td>1.000000</td>\n",
       "    </tr>\n",
       "  </tbody>\n",
       "</table>\n",
       "</div>"
      ],
      "text/plain": [
       "                      Temperature (C)  Humidity  Wind Speed (km/h)  \\\n",
       "Temperature (C)              1.000000 -0.632224           0.008659   \n",
       "Humidity                    -0.632224  1.000000          -0.224697   \n",
       "Wind Speed (km/h)            0.008659 -0.224697           1.000000   \n",
       "Pressure (millibars)        -0.130731  0.044439          -0.060417   \n",
       "\n",
       "                      Pressure (millibars)  \n",
       "Temperature (C)                  -0.130731  \n",
       "Humidity                          0.044439  \n",
       "Wind Speed (km/h)                -0.060417  \n",
       "Pressure (millibars)              1.000000  "
      ]
     },
     "execution_count": 48,
     "metadata": {},
     "output_type": "execute_result"
    }
   ],
   "source": [
    "df[['Temperature (C)','Humidity','Wind Speed (km/h)','Pressure (millibars)']].corr()"
   ]
  },
  {
   "cell_type": "code",
   "execution_count": null,
   "id": "51c19af7-fa04-4ecb-a866-82a33048a4c5",
   "metadata": {},
   "outputs": [
    {
     "data": {
      "image/png": "[encoded data removed]",
      "text/plain": [
       "<Figure size 432x288 with 1 Axes>"
      ]
     },
     "metadata": {},
     "output_type": "display_data"
    }
   ],
   "source": [
    "plt.plot(df['Pressure (millibars)'],df['Temperature (C)'],'o')\n",
    "plt.xlabel(\"pre\")\n",
    "plt.ylabel(\"tem\")\n",
    "plt.show()"
   ]
  },
  {
   "cell_type": "code",
   "execution_count": null,
   "id": "9b015ed1",
   "metadata": {},
   "outputs": [],
   "source": []
  },
  {
   "cell_type": "code",
   "execution_count": null,
   "id": "d1a6f346-9b1b-4602-8127-2b0448a4e7d7",
   "metadata": {},
   "outputs": [],
   "source": [
    "from sklearn.linear_model import LinearRegression\n",
    "from sklearn.model_selection import train_test_split"
   ]
  },
  {
   "cell_type": "code",
   "execution_count": null,
   "id": "78212a31-382f-45ee-a13b-7faf9a7a0940",
   "metadata": {},
   "outputs": [
    {
     "name": "stdout",
     "output_type": "stream",
     "text": [
      "0.4347934649888881\n"
     ]
    }
   ],
   "source": [
    "x=df[['Humidity','Wind Speed (km/h)','Pressure (millibars)']]\n",
    "y=df['Temperature (C)']\n",
    "x_train,x_test,y_train,y_test=train_test_split(x,y,test_size=0.3)\n",
    "model=LinearRegression()\n",
    "model.fit(x_train,y_train)\n",
    "print(model.score(x_test,y_test))"
   ]
  },
  {
   "cell_type": "code",
   "execution_count": null,
   "id": "444e9d52",
   "metadata": {},
   "outputs": [],
   "source": [
    "from sklearn.ensemble import RandomForestRegressor"
   ]
  },
  {
   "cell_type": "code",
   "execution_count": null,
   "id": "2cb61519-b6f1-4d24-ba10-ff8cc09d2572",
   "metadata": {},
   "outputs": [
    {
     "name": "stdout",
     "output_type": "stream",
     "text": [
      "0.8674263501483203\n"
     ]
    }
   ],
   "source": [
    "x=df[['Humidity','Wind Speed (km/h)','Pressure (millibars)']]\n",
    "y=df['Temperature (C)']\n",
    "x_train,x_test,y_train,y_test=train_test_split(x,y,test_size=0.3)\n",
    "model=RandomForestRegressor()\n",
    "model.fit(x_train,y_train)\n",
    "print(model.score(x_test,y_test))"
   ]
  },
  {
   "cell_type": "code",
   "execution_count": null,
   "id": "5268a870-ca7f-40b7-8bb9-2e3b80409565",
   "metadata": {},
   "outputs": [
    {
     "name": "stdout",
     "output_type": "stream",
     "text": [
      "MAE: 2.3948250647354703\n",
      "MSE: 12.140557547641539\n",
      "R2 Score: 0.8674263501483201\n"
     ]
    }
   ],
   "source": [
    "from sklearn.metrics import mean_squared_error, mean_absolute_error, r2_score\n",
    "\n",
    "y_pred = model.predict(x_test)\n",
    "\n",
    "print(\"MAE:\", mean_absolute_error(y_test, y_pred))\n",
    "print(\"MSE:\", mean_squared_error(y_test, y_pred))\n",
    "print(\"R2 Score:\", r2_score(y_test, y_pred))\n"
   ]
  },
  {
   "cell_type": "code",
   "execution_count": null,
   "id": "45f3e812",
   "metadata": {},
   "outputs": [
    {
     "name": "stdout",
     "output_type": "stream",
     "text": [
      "[16.37777778]\n"
     ]
    }
   ],
   "source": [
    "xx=[.78,13.74,1014.24]\n",
    "xy=np.array([xx])\n",
    "print(model.predict(xy))"
   ]
  }
 ],
 "metadata": {
  "kernelspec": {
   "display_name": "Python 3",
   "language": "python",
   "name": "python3"
  },
  "language_info": {
   "codemirror_mode": {
    "name": "ipython",
    "version": 3
   },
   "file_extension": ".py",
   "mimetype": "text/x-python",
   "name": "python",
   "nbconvert_exporter": "python",
   "pygments_lexer": "ipython3",
   "version": "3.13.1"
  }
 },
 "nbformat": 4,
 "nbformat_minor": 5
}
