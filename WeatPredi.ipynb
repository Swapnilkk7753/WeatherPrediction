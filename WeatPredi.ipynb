{
 "cells": [
  {
   "cell_type": "code",
   "execution_count": 1,
   "id": "06aab437-c5dd-453d-b882-4c1f2a40af84",
   "metadata": {},
   "outputs": [],
   "source": [
    "import numpy as np\n",
    "import pandas as pd\n",
    "import matplotlib.pyplot as plt"
   ]
  },
  {
   "cell_type": "code",
   "execution_count": 2,
   "id": "9f8df492-b160-46eb-8dbe-1a47d77304c0",
   "metadata": {},
   "outputs": [],
   "source": [
    "df=pd.read_csv('weatherHistory.csv')"
   ]
  },
  {
   "cell_type": "code",
   "execution_count": 3,
   "id": "fdef1e49-e803-418c-a114-6e349ff845ae",
   "metadata": {},
   "outputs": [
    {
     "name": "stdout",
     "output_type": "stream",
     "text": [
      "<class 'pandas.core.frame.DataFrame'>\n",
      "RangeIndex: 96453 entries, 0 to 96452\n",
      "Data columns (total 12 columns):\n",
      " #   Column                    Non-Null Count  Dtype  \n",
      "---  ------                    --------------  -----  \n",
      " 0   Formatted Date            96453 non-null  object \n",
      " 1   Summary                   96453 non-null  object \n",
      " 2   Precip Type               95936 non-null  object \n",
      " 3   Temperature (C)           96453 non-null  float64\n",
      " 4   Apparent Temperature (C)  96453 non-null  float64\n",
      " 5   Humidity                  96453 non-null  float64\n",
      " 6   Wind Speed (km/h)         96453 non-null  float64\n",
      " 7   Wind Bearing (degrees)    96453 non-null  float64\n",
      " 8   Visibility (km)           96453 non-null  float64\n",
      " 9   Loud Cover                96453 non-null  float64\n",
      " 10  Pressure (millibars)      96453 non-null  float64\n",
      " 11  Daily Summary             96453 non-null  object \n",
      "dtypes: float64(8), object(4)\n",
      "memory usage: 8.8+ MB\n"
     ]
    }
   ],
   "source": [
    "df.info()"
   ]
  },
  {
   "cell_type": "code",
   "execution_count": 4,
   "id": "bd9595d0-1581-4973-8ec7-101b4524db8d",
   "metadata": {},
   "outputs": [],
   "source": [
    "df.dropna(inplace=True)"
   ]
  },
  {
   "cell_type": "code",
   "execution_count": 5,
   "id": "4922315f-1f9b-49aa-8855-b0dbbc1a6b2f",
   "metadata": {},
   "outputs": [],
   "source": [
    "df.drop_duplicates(inplace=True)"
   ]
  },
  {
   "cell_type": "code",
   "execution_count": 6,
   "id": "4d61f11d-de9e-4366-bca7-e2991f8f2f50",
   "metadata": {},
   "outputs": [
    {
     "data": {
      "text/html": [
       "<div>\n",
       "<style scoped>\n",
       "    .dataframe tbody tr th:only-of-type {\n",
       "        vertical-align: middle;\n",
       "    }\n",
       "\n",
       "    .dataframe tbody tr th {\n",
       "        vertical-align: top;\n",
       "    }\n",
       "\n",
       "    .dataframe thead th {\n",
       "        text-align: right;\n",
       "    }\n",
       "</style>\n",
       "<table border=\"1\" class=\"dataframe\">\n",
       "  <thead>\n",
       "    <tr style=\"text-align: right;\">\n",
       "      <th></th>\n",
       "      <th>Temperature (C)</th>\n",
       "      <th>Humidity</th>\n",
       "      <th>Wind Speed (km/h)</th>\n",
       "      <th>Pressure (millibars)</th>\n",
       "    </tr>\n",
       "  </thead>\n",
       "  <tbody>\n",
       "    <tr>\n",
       "      <th>Temperature (C)</th>\n",
       "      <td>1.000000</td>\n",
       "      <td>-0.632224</td>\n",
       "      <td>0.008659</td>\n",
       "      <td>-0.005286</td>\n",
       "    </tr>\n",
       "    <tr>\n",
       "      <th>Humidity</th>\n",
       "      <td>-0.632224</td>\n",
       "      <td>1.000000</td>\n",
       "      <td>-0.224697</td>\n",
       "      <td>0.005377</td>\n",
       "    </tr>\n",
       "    <tr>\n",
       "      <th>Wind Speed (km/h)</th>\n",
       "      <td>0.008659</td>\n",
       "      <td>-0.224697</td>\n",
       "      <td>1.000000</td>\n",
       "      <td>-0.049434</td>\n",
       "    </tr>\n",
       "    <tr>\n",
       "      <th>Pressure (millibars)</th>\n",
       "      <td>-0.005286</td>\n",
       "      <td>0.005377</td>\n",
       "      <td>-0.049434</td>\n",
       "      <td>1.000000</td>\n",
       "    </tr>\n",
       "  </tbody>\n",
       "</table>\n",
       "</div>"
      ],
      "text/plain": [
       "                      Temperature (C)  Humidity  Wind Speed (km/h)  \\\n",
       "Temperature (C)              1.000000 -0.632224           0.008659   \n",
       "Humidity                    -0.632224  1.000000          -0.224697   \n",
       "Wind Speed (km/h)            0.008659 -0.224697           1.000000   \n",
       "Pressure (millibars)        -0.005286  0.005377          -0.049434   \n",
       "\n",
       "                      Pressure (millibars)  \n",
       "Temperature (C)                  -0.005286  \n",
       "Humidity                          0.005377  \n",
       "Wind Speed (km/h)                -0.049434  \n",
       "Pressure (millibars)              1.000000  "
      ]
     },
     "execution_count": 6,
     "metadata": {},
     "output_type": "execute_result"
    }
   ],
   "source": [
    "df[['Temperature (C)','Humidity','Wind Speed (km/h)','Pressure (millibars)']].corr()"
   ]
  },
  {
   "cell_type": "code",
   "execution_count": 45,
   "id": "51c19af7-fa04-4ecb-a866-82a33048a4c5",
   "metadata": {},
   "outputs": [
    {
     "data": {
      "image/png": "[encoded data removed]",
      "text/plain": [
       "<Figure size 640x480 with 1 Axes>"
      ]
     },
     "metadata": {},
     "output_type": "display_data"
    }
   ],
   "source": [
    "plt.plot(df['Pressure (millibars)'],df['Temperature (C)'],'o')\n",
    "plt.xlabel(\"pre\")\n",
    "plt.ylabel(\"tem\")\n",
    "plt.show()"
   ]
  },
  {
   "cell_type": "code",
   "execution_count": 8,
   "id": "cc583ddf-4b6b-413f-ace6-135067038028",
   "metadata": {},
   "outputs": [],
   "source": [
    "for i in df.index:\n",
    "    if df.loc[i,'Pressure (millibars)']<990:\n",
    "        df.loc[i,'Pressure (millibars)']=None\n",
    "df.dropna(inplace=True)\n",
    "        "
   ]
  },
  {
   "cell_type": "code",
   "execution_count": 9,
   "id": "2f740559-43f6-4df4-8216-00eeb5cdc4ef",
   "metadata": {},
   "outputs": [],
   "source": [
    "for i in df.index:\n",
    "    if df.loc[i,'Pressure (millibars)']>1040:\n",
    "        df.loc[i,'Pressure (millibars)']=None\n",
    "df.dropna(inplace=True)"
   ]
  },
  {
   "cell_type": "code",
   "execution_count": 10,
   "id": "6c6e1977-2116-4ba9-9b49-1a9c167b01fe",
   "metadata": {},
   "outputs": [],
   "source": [
    "for i in df.index:\n",
    "    if df.loc[i,'Pressure (millibars)']<1000:\n",
    "        df.loc[i,'Pressure (millibars)']=df['Pressure (millibars)'].mean()"
   ]
  },
  {
   "cell_type": "code",
   "execution_count": 11,
   "id": "db774843-374a-4a1e-bf72-84e53f7d9da3",
   "metadata": {},
   "outputs": [],
   "source": [
    "for i in df.index:\n",
    "    if df.loc[i,'Pressure (millibars)']<1010:\n",
    "        df.loc[i,'Pressure (millibars)']=df['Pressure (millibars)'].mean()"
   ]
  },
  {
   "cell_type": "code",
   "execution_count": 12,
   "id": "2bb68607-8004-44ce-a914-815c0e50231a",
   "metadata": {},
   "outputs": [],
   "source": [
    "for i in df.index:\n",
    "    if df.loc[i,'Pressure (millibars)']<1015:\n",
    "        df.loc[i,'Pressure (millibars)']=df['Pressure (millibars)'].mean()"
   ]
  },
  {
   "cell_type": "code",
   "execution_count": 13,
   "id": "58dfd13b-c8da-4098-a19f-bd61e69e3c78",
   "metadata": {},
   "outputs": [],
   "source": [
    "for i in df.index:\n",
    "    if df.loc[i,'Pressure (millibars)']<1020:\n",
    "        df.loc[i,'Pressure (millibars)']=df['Pressure (millibars)'].mean()"
   ]
  },
  {
   "cell_type": "code",
   "execution_count": 14,
   "id": "56903bcd-64ea-428d-8559-786893bb280d",
   "metadata": {},
   "outputs": [],
   "source": [
    "for i in df.index:\n",
    "    if df.loc[i,'Pressure (millibars)']<1025:\n",
    "        df.loc[i,'Pressure (millibars)']=df['Pressure (millibars)'].mean()"
   ]
  },
  {
   "cell_type": "code",
   "execution_count": 15,
   "id": "96e80cdb-a3bd-4d57-aa77-42e3934d7922",
   "metadata": {},
   "outputs": [],
   "source": [
    "for i in df.index:\n",
    "    if df.loc[i,'Temperature (C)']<-10:\n",
    "        df.loc[i,'Temperature (C)']=None\n",
    "df.dropna(inplace=True)"
   ]
  },
  {
   "cell_type": "code",
   "execution_count": 16,
   "id": "53571232-021b-4622-8571-1467b96582d9",
   "metadata": {},
   "outputs": [],
   "source": [
    "for i in df.index:\n",
    "    if df.loc[i,'Pressure (millibars)']<1030:\n",
    "        df.loc[i,'Pressure (millibars)']=df['Pressure (millibars)'].mean()"
   ]
  },
  {
   "cell_type": "code",
   "execution_count": 17,
   "id": "dfedd2a3-c92d-4ada-b9e8-92750150d038",
   "metadata": {},
   "outputs": [],
   "source": [
    "for i in df.index:\n",
    "    if df.loc[i,'Temperature (C)']>38:\n",
    "        df.loc[i,'Temperature (C)']=None\n",
    "df.dropna(inplace=True)"
   ]
  },
  {
   "cell_type": "code",
   "execution_count": 18,
   "id": "71fe6fb1-327e-49ff-b06f-a89c6baf1ffd",
   "metadata": {},
   "outputs": [],
   "source": [
    "for i in df.index:\n",
    "    if df.loc[i,'Pressure (millibars)']<1033:\n",
    "        df.loc[i,'Pressure (millibars)']=df['Pressure (millibars)'].mean()"
   ]
  },
  {
   "cell_type": "code",
   "execution_count": 19,
   "id": "2174ff55-1f7e-4b08-b1f5-99eaa4727bea",
   "metadata": {},
   "outputs": [],
   "source": [
    "for i in df.index:\n",
    "    if df.loc[i,'Pressure (millibars)']<1035:\n",
    "        df.loc[i,'Pressure (millibars)']=df['Pressure (millibars)'].mean()"
   ]
  },
  {
   "cell_type": "code",
   "execution_count": 20,
   "id": "b850990b-5c93-454f-8614-79c015d42ae0",
   "metadata": {},
   "outputs": [],
   "source": [
    "for i in df.index:\n",
    "    if df.loc[i,'Pressure (millibars)']<1035:\n",
    "        df.loc[i,'Pressure (millibars)']=df['Pressure (millibars)'].mean()"
   ]
  },
  {
   "cell_type": "code",
   "execution_count": 21,
   "id": "9d5fb95e-afa5-41cf-b44f-6ff9f9cea150",
   "metadata": {},
   "outputs": [],
   "source": [
    "for i in df.index:\n",
    "    if df.loc[i,'Pressure (millibars)']<1036:\n",
    "        df.loc[i,'Pressure (millibars)']=df['Pressure (millibars)'].mean()"
   ]
  },
  {
   "cell_type": "code",
   "execution_count": 22,
   "id": "43d2f90b-b9d1-4e48-97a9-bfd569eaea58",
   "metadata": {},
   "outputs": [],
   "source": [
    "for i in df.index:\n",
    "    if df.loc[i,'Pressure (millibars)']<1036:\n",
    "        df.loc[i,'Pressure (millibars)']=df['Pressure (millibars)'].mean()"
   ]
  },
  {
   "cell_type": "code",
   "execution_count": 23,
   "id": "5a017137-d82f-45cd-807c-f97d04c0b74e",
   "metadata": {},
   "outputs": [],
   "source": [
    "for i in df.index:\n",
    "    if df.loc[i,'Pressure (millibars)']<1036:\n",
    "        df.loc[i,'Pressure (millibars)']=df['Pressure (millibars)'].mean()"
   ]
  },
  {
   "cell_type": "code",
   "execution_count": 24,
   "id": "fe400038-dfde-4592-9434-119c07b3ed34",
   "metadata": {},
   "outputs": [],
   "source": [
    "for i in df.index:\n",
    "    if df.loc[i,'Pressure (millibars)']<1036:\n",
    "        df.loc[i,'Pressure (millibars)']=df['Pressure (millibars)'].mean()"
   ]
  },
  {
   "cell_type": "code",
   "execution_count": 25,
   "id": "1ee1259b-557d-4168-84be-f4c93c9a9ec1",
   "metadata": {},
   "outputs": [],
   "source": [
    "for i in df.index:\n",
    "    if df.loc[i,'Pressure (millibars)']<1037:\n",
    "        df.loc[i,'Pressure (millibars)']=df['Pressure (millibars)'].mean()"
   ]
  },
  {
   "cell_type": "code",
   "execution_count": 26,
   "id": "967b9a78-d626-4cb2-8139-5799d8e38489",
   "metadata": {},
   "outputs": [],
   "source": [
    "for i in df.index:\n",
    "    if df.loc[i,'Pressure (millibars)']<1037:\n",
    "        df.loc[i,'Pressure (millibars)']=df['Pressure (millibars)'].mean()"
   ]
  },
  {
   "cell_type": "code",
   "execution_count": 27,
   "id": "0a06b57c-c3c3-48cc-8c73-1a7ee27a153d",
   "metadata": {},
   "outputs": [],
   "source": [
    "for i in df.index:\n",
    "    if df.loc[i,'Pressure (millibars)']<1037:\n",
    "        df.loc[i,'Pressure (millibars)']=df['Pressure (millibars)'].mean()"
   ]
  },
  {
   "cell_type": "code",
   "execution_count": 28,
   "id": "8347d654-6ab8-462f-8df6-90a908f84bd7",
   "metadata": {},
   "outputs": [],
   "source": [
    "for i in df.index:\n",
    "    if df.loc[i,'Pressure (millibars)']<1037:\n",
    "        df.loc[i,'Pressure (millibars)']=df['Pressure (millibars)'].mean()"
   ]
  },
  {
   "cell_type": "code",
   "execution_count": null,
   "id": "1bbe0df4-c5f7-4db0-814a-f8d0cdac4a41",
   "metadata": {},
   "outputs": [],
   "source": [
    "for i in df.index:\n",
    "    if df.loc[i,'Pressure (millibars)']>103:\n",
    "        df.loc[i,'Pressure (millibars)']=None\n",
    "df.dropna(inplace=True)"
   ]
  },
  {
   "cell_type": "code",
   "execution_count": 29,
   "id": "d1a6f346-9b1b-4602-8127-2b0448a4e7d7",
   "metadata": {},
   "outputs": [],
   "source": [
    "from sklearn.linear_model import LinearRegression\n",
    "from sklearn.model_selection import train_test_split"
   ]
  },
  {
   "cell_type": "code",
   "execution_count": 30,
   "id": "839dd116-3de0-4258-93dc-dfd73593f0c1",
   "metadata": {},
   "outputs": [],
   "source": [
    "from sklearn.ensemble import RandomForestRegressor"
   ]
  },
  {
   "cell_type": "code",
   "execution_count": 37,
   "id": "2cb61519-b6f1-4d24-ba10-ff8cc09d2572",
   "metadata": {},
   "outputs": [
    {
     "name": "stdout",
     "output_type": "stream",
     "text": [
      "0.8641243387354574\n"
     ]
    }
   ],
   "source": [
    "x=df[['Humidity','Wind Speed (km/h)','Pressure (millibars)']]\n",
    "y=df['Temperature (C)']\n",
    "x_train,x_test,y_train,y_test=train_test_split(x,y,test_size=0.3)\n",
    "model=RandomForestRegressor()\n",
    "model.fit(x_train,y_train)\n",
    "print(model.score(x_test,y_test))"
   ]
  },
  {
   "cell_type": "code",
   "execution_count": 43,
   "id": "28f24267-48d7-494a-b8a3-952c6b1ab0da",
   "metadata": {},
   "outputs": [],
   "source": [
    "xx=[[0.46,10.067,1016],[.58,10.81,0]]\n",
    "xy=np.array(xx)"
   ]
  },
  {
   "cell_type": "code",
   "execution_count": 44,
   "id": "7d034419-f658-489c-a450-296afc3743a7",
   "metadata": {},
   "outputs": [
    {
     "name": "stdout",
     "output_type": "stream",
     "text": [
      "[19.06122222 15.50388889]\n"
     ]
    },
    {
     "name": "stderr",
     "output_type": "stream",
     "text": [
      "C:\\Users\\uim\\AppData\\Local\\Programs\\Python\\Python312\\Lib\\site-packages\\sklearn\\utils\\validation.py:2749: UserWarning: X does not have valid feature names, but RandomForestRegressor was fitted with feature names\n",
      "  warnings.warn(\n"
     ]
    }
   ],
   "source": [
    "print(model.predict(xy))"
   ]
  },
  {
   "cell_type": "code",
   "execution_count": 34,
   "id": "24f7fc92-1f96-4811-839b-93bcf4f6a953",
   "metadata": {},
   "outputs": [
    {
     "data": {
      "text/plain": [
       "np.float64(1028.110748097899)"
      ]
     },
     "execution_count": 34,
     "metadata": {},
     "output_type": "execute_result"
    }
   ],
   "source": [
    "df['Pressure (millibars)'].mean()"
   ]
  },
  {
   "cell_type": "code",
   "execution_count": null,
   "id": "1829d0d8-c13b-4e59-a375-443686ce0cf5",
   "metadata": {},
   "outputs": [],
   "source": []
  }
 ],
 "metadata": {
  "kernelspec": {
   "display_name": "Python 3 (ipykernel)",
   "language": "python",
   "name": "python3"
  },
  "language_info": {
   "codemirror_mode": {
    "name": "ipython",
    "version": 3
   },
   "file_extension": ".py",
   "mimetype": "text/x-python",
   "name": "python",
   "nbconvert_exporter": "python",
   "pygments_lexer": "ipython3",
   "version": "3.12.4"
  }
 },
 "nbformat": 4,
 "nbformat_minor": 5
}
